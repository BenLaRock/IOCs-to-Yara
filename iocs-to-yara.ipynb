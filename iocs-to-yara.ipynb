{
 "cells": [
  {
   "cell_type": "markdown",
   "metadata": {},
   "source": [
    "IoC Types to Extract:\n",
    "- IP (v4 and v6, public and private - remove private later)\n",
    "   - \"dumb parse\" (no validation - easier regex)?\n",
    "   - https://docs.python.org/3/library/ipaddress.html\n",
    "- URL / domain\n",
    "- hashes: MD5, SHA1, SHA256\n",
    "\n",
    "Accept these file types:\n",
    "- txt \n",
    "- Word doc / docx\n",
    "- maybe CSV?\n",
    "- maybe PDF?\n",
    "\n",
    "Thoughts:\n",
    "- use IP library to determine IP type \n",
    "- find a hash library to validate hashes / determine type\n",
    "- need good regexs for IoCs\n",
    "\n",
    "https://github.com/eset/malware-ioc/tree/master/nukesped_lazarus"
   ]
  },
  {
   "cell_type": "code",
   "execution_count": 18,
   "metadata": {},
   "outputs": [],
   "source": [
    "import os\n",
    "import re\n",
    "# from checkHash import *"
   ]
  },
  {
   "cell_type": "code",
   "execution_count": 19,
   "metadata": {},
   "outputs": [],
   "source": [
    "# Constants\n",
    "\n",
    "ACCEPTED_FILETYPES = (\n",
    "    # \"PDF\",\n",
    "    \"TXT\",\n",
    "    )\n",
    "\n",
    "MD5_REGEX_PATTERN = r\"(\\b[0-9a-f]{32}\\b)\"\n",
    "SHA1_REGEX_PATTERN = r\"(\\b[0-9a-f]{40}\\b)\"\n",
    "SHA256_REGEX_PATTERN = r\"(\\b[0-9a-f]{64}\\b)\"\n",
    "\n",
    "IPV4_REGEX_PATTERN = r\"(([0-9]{1,3}\\.{0,1}){4}(\\:{1}[0-9]{1,5}){0,1})\" # \"dumb\" (no validation), also handles 1-5 digit port suffixes\n"
   ]
  },
  {
   "cell_type": "code",
   "execution_count": 20,
   "metadata": {},
   "outputs": [
    {
     "name": "stdout",
     "output_type": "stream",
     "text": [
      "accepted filetype:  MalwareBazaarRecentMalwareSamples_MD5_20240901.txt\n",
      "accepted filetype:  MalwareIoCRepoNukespedLazarus_SHA1.txt\n",
      "accepted filetype:  MalwareTrafficAnalysisExerciseAnswers_IPDomainSHA256_20240815.txt\n",
      "accepted filetype:  VariousHashes.txt\n",
      "accepted filetype:  VariousIPs.txt\n",
      "VariousIPs.txt\n",
      "// IPv4 with and without ports\n",
      "104.21.55.70:80\n",
      "104.21.55.70\n",
      "\n",
      "172.67.170.169:443\n",
      "172.67.170.169\n",
      "\n",
      "72.5.43.29:80\n",
      "72.5.43.29\n"
     ]
    }
   ],
   "source": [
    "\n",
    "\n",
    "sample_data_path = \"sample-data\"\n",
    "sample_data = os.listdir(sample_data_path)\n",
    "\n",
    "accepted_files = []\n",
    "for file in sample_data:\n",
    "    if file.upper().endswith(ACCEPTED_FILETYPES):\n",
    "        print(\"accepted filetype: \", file)\n",
    "        accepted_files.append(file)\n",
    "\n",
    "# print(accepted_files)\n",
    "test_data = accepted_files[-1]\n",
    "print(test_data)\n",
    "\n",
    "with open(f\"{sample_data_path}/{test_data}\", \"r\") as file:\n",
    "    read_in_data = file.read()\n",
    "    file.close()\n",
    "\n",
    "print(read_in_data)"
   ]
  },
  {
   "cell_type": "markdown",
   "metadata": {},
   "source": [
    "**MD5 Format:**\n",
    "\n",
    "The format of an MD5 hash is a 32-character hexadecimal string that represents 128 bits of data. The hexadecimal digits used are 0–9 and a–f. For example, the MD5 hash for the word \"hello\" is \"5d41402abc4b2a76b9719d911017c592\". \n",
    "\n",
    "**SHA1 Format**\n",
    "\n",
    "SHA-1 Hash Algorithm | Board Infinity\n",
    "The SHA-1 hash format is a 160-bit (20-byte) hash value, usually represented as 40 hexadecimal digits. SHA-1 stands for Secure Hash Algorithm 1, and it's a cryptographic hash function that takes a string as input and generates a hash value. \n",
    "\n",
    "**SHA256 Format**\n",
    "\n",
    "64 hex digits \n",
    "https://stackoverflow.com/questions/3064133/will-a-sha256-hash-always-have-64-characters\n",
    "\n",
    "**IPv4 Format**\n",
    "\n",
    "https://www.regextutorial.org/regex-for-numbers-and-ranges.php\n",
    "\n",
    "**IPv6 Format** \n",
    "\n",
    "https://stackoverflow.com/questions/53497/regular-expression-that-matches-valid-ipv6-addresses\n"
   ]
  },
  {
   "cell_type": "code",
   "execution_count": 21,
   "metadata": {},
   "outputs": [
    {
     "name": "stdout",
     "output_type": "stream",
     "text": [
      "0\n",
      "0\n",
      "0\n"
     ]
    }
   ],
   "source": [
    "md5_matches = re.findall(MD5_REGEX_PATTERN, read_in_data, re.IGNORECASE)\n",
    "print(len(md5_matches))\n",
    "\n",
    "sha1_matches = re.findall(SHA1_REGEX_PATTERN, read_in_data, re.IGNORECASE)\n",
    "print(len(sha1_matches))\n",
    "\n",
    "sha256_matches = re.findall(SHA256_REGEX_PATTERN, read_in_data, re.IGNORECASE)\n",
    "print(len(sha256_matches))"
   ]
  },
  {
   "cell_type": "code",
   "execution_count": 23,
   "metadata": {},
   "outputs": [
    {
     "name": "stdout",
     "output_type": "stream",
     "text": [
      "6\n"
     ]
    },
    {
     "data": {
      "text/plain": [
       "[('104.21.55.70:80', '70', ':80'),\n",
       " ('104.21.55.70', '70', ''),\n",
       " ('172.67.170.169:443', '169', ':443'),\n",
       " ('172.67.170.169', '169', ''),\n",
       " ('72.5.43.29:80', '29', ':80'),\n",
       " ('72.5.43.29', '29', '')]"
      ]
     },
     "execution_count": 23,
     "metadata": {},
     "output_type": "execute_result"
    }
   ],
   "source": [
    "ipv4_matches = re.findall(IPV4_REGEX_PATTERN, read_in_data, re.IGNORECASE)\n",
    "print(len(ipv4_matches))\n",
    "ipv4_matches"
   ]
  },
  {
   "cell_type": "code",
   "execution_count": null,
   "metadata": {},
   "outputs": [],
   "source": []
  }
 ],
 "metadata": {
  "kernelspec": {
   "display_name": "base",
   "language": "python",
   "name": "python3"
  },
  "language_info": {
   "codemirror_mode": {
    "name": "ipython",
    "version": 3
   },
   "file_extension": ".py",
   "mimetype": "text/x-python",
   "name": "python",
   "nbconvert_exporter": "python",
   "pygments_lexer": "ipython3",
   "version": "3.11.5"
  }
 },
 "nbformat": 4,
 "nbformat_minor": 2
}
