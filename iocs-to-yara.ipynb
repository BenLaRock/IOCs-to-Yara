{
 "cells": [
  {
   "cell_type": "markdown",
   "metadata": {},
   "source": [
    "IoC Types to Extract:\n",
    "- IP (v4 and v6, public and private - remove private later)\n",
    "- URL / domain\n",
    "- hashes: MD5, SHA1, SHA256\n",
    "\n",
    "Accept these file types:\n",
    "- txt \n",
    "- Word doc / docx\n",
    "- maybe CSV?\n",
    "- maybe PDF?\n",
    "\n",
    "Thoughts:\n",
    "- use IP library to determine IP type \n",
    "- find a hash library to validate hashes / determine type\n",
    "- need good regexs for IoCs\n",
    "\n",
    "https://github.com/eset/malware-ioc/tree/master/nukesped_lazarus"
   ]
  },
  {
   "cell_type": "code",
   "execution_count": 1,
   "metadata": {},
   "outputs": [
    {
     "ename": "ModuleNotFoundError",
     "evalue": "No module named 'checkHash'",
     "output_type": "error",
     "traceback": [
      "\u001b[1;31m---------------------------------------------------------------------------\u001b[0m",
      "\u001b[1;31mModuleNotFoundError\u001b[0m                       Traceback (most recent call last)",
      "Cell \u001b[1;32mIn[1], line 3\u001b[0m\n\u001b[0;32m      1\u001b[0m \u001b[38;5;28;01mimport\u001b[39;00m \u001b[38;5;21;01mos\u001b[39;00m\n\u001b[0;32m      2\u001b[0m \u001b[38;5;28;01mimport\u001b[39;00m \u001b[38;5;21;01mre\u001b[39;00m\n\u001b[1;32m----> 3\u001b[0m \u001b[38;5;28;01mfrom\u001b[39;00m \u001b[38;5;21;01mcheckHash\u001b[39;00m \u001b[38;5;28;01mimport\u001b[39;00m \u001b[38;5;241m*\u001b[39m\n",
      "\u001b[1;31mModuleNotFoundError\u001b[0m: No module named 'checkHash'"
     ]
    }
   ],
   "source": [
    "import os\n",
    "import re\n",
    "# from checkHash import *"
   ]
  },
  {
   "cell_type": "code",
   "execution_count": 22,
   "metadata": {},
   "outputs": [
    {
     "name": "stdout",
     "output_type": "stream",
     "text": [
      "VariousHashes.txt\n",
      "// These are SHA1\n",
      "ec69154b36a9918db3c7fb4013a2fe1a1ab4ee62\n",
      "c1f2e6f1bdcc05ff5d0c27845c72adaedd9bbe46\n",
      "9a99e0c3760662ed231702842e28c86bedc78f05\n",
      "d8ab82c684170d094c69d6cdf6552abe9ec23e8a\n",
      "7319d56ec56d876fb10b34d9d0ee75bae99aa200\n",
      "\n",
      "// These are SHA256\n",
      "6174276F94219BC386BDC628CA18EAEC261998B7BD03077562FE93C268B42446\n",
      "861911E953E6FD0A015B3A91A7528A388A535C83F4B9A5CF7366B8209D2F00C3\n",
      "\n",
      "// These are MD5\n",
      "4728451d9bb821bfd9e842a3e8287a95\n",
      "d71d9ce33e1d1f7cca026ee9d8a84455\n",
      "1e1be607275af8bc71fab2203e02efd5\n",
      "fd192fb05e0cd219b14c5bf345f33cfb\n",
      "d36ab0bd58ada2d5fb9f6560c8d8bf30\n",
      "<class 'str'>\n"
     ]
    }
   ],
   "source": [
    "ACCEPTED_FILETYPES = (\n",
    "    # \"PDF\",\n",
    "    \"TXT\",\n",
    "    )\n",
    "\n",
    "sample_data_path = \"sample-data\"\n",
    "sample_data = os.listdir(sample_data_path)\n",
    "\n",
    "accepted_files = []\n",
    "for file in sample_data:\n",
    "    if file.upper().endswith(ACCEPTED_FILETYPES):\n",
    "        # print(\"accepted filetype: \", file)\n",
    "        accepted_files.append(file)\n",
    "\n",
    "# print(accepted_files)\n",
    "test_data = accepted_files[-1]\n",
    "print(test_data)\n",
    "\n",
    "with open(f\"{sample_data_path}/{test_data}\", \"r\") as file:\n",
    "    read_in_data = file.read()\n",
    "    file.close()\n",
    "\n",
    "print(read_in_data)"
   ]
  },
  {
   "cell_type": "markdown",
   "metadata": {},
   "source": [
    "**MD5 Format:**\n",
    "\n",
    "The format of an MD5 hash is a 32-character hexadecimal string that represents 128 bits of data. The hexadecimal digits used are 0–9 and a–f. For example, the MD5 hash for the word \"hello\" is \"5d41402abc4b2a76b9719d911017c592\". \n",
    "\n",
    "**SHA1 Format**\n",
    "\n",
    "SHA-1 Hash Algorithm | Board Infinity\n",
    "The SHA-1 hash format is a 160-bit (20-byte) hash value, usually represented as 40 hexadecimal digits. SHA-1 stands for Secure Hash Algorithm 1, and it's a cryptographic hash function that takes a string as input and generates a hash value. \n",
    "\n",
    "**SHA256 Format**\n",
    "\n",
    "64 hex digits \n",
    "https://stackoverflow.com/questions/3064133/will-a-sha256-hash-always-have-64-characters\n"
   ]
  },
  {
   "cell_type": "code",
   "execution_count": 27,
   "metadata": {},
   "outputs": [
    {
     "name": "stdout",
     "output_type": "stream",
     "text": [
      "5\n",
      "5\n",
      "2\n"
     ]
    }
   ],
   "source": [
    "MD5_REGEX_PATTERN = r\"(\\b[0-9a-f]{32}\\b)\"\n",
    "SHA1_REGEX_PATTERN = r\"(\\b[0-9a-f]{40}\\b)\"\n",
    "SHA256_REGEX_PATTERN = r\"(\\b[0-9a-f]{64}\\b)\"\n",
    "\n",
    "md5_matches = re.findall(MD5_REGEX_PATTERN, read_in_data, re.IGNORECASE)\n",
    "print(len(md5_matches))\n",
    "\n",
    "sha1_matches = re.findall(SHA1_REGEX_PATTERN, read_in_data, re.IGNORECASE)\n",
    "print(len(sha1_matches))\n",
    "\n",
    "sha256_matches = re.findall(SHA256_REGEX_PATTERN, read_in_data, re.IGNORECASE)\n",
    "print(len(sha256_matches))"
   ]
  },
  {
   "cell_type": "code",
   "execution_count": null,
   "metadata": {},
   "outputs": [],
   "source": []
  }
 ],
 "metadata": {
  "kernelspec": {
   "display_name": "base",
   "language": "python",
   "name": "python3"
  },
  "language_info": {
   "codemirror_mode": {
    "name": "ipython",
    "version": 3
   },
   "file_extension": ".py",
   "mimetype": "text/x-python",
   "name": "python",
   "nbconvert_exporter": "python",
   "pygments_lexer": "ipython3",
   "version": "3.11.5"
  }
 },
 "nbformat": 4,
 "nbformat_minor": 2
}
